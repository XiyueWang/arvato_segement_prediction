{
 "cells": [
  {
   "cell_type": "code",
   "execution_count": 9,
   "metadata": {},
   "outputs": [],
   "source": [
    "# import libraries here; add more as necessary\n",
    "import numpy as np\n",
    "import pandas as pd\n",
    "import matplotlib.pyplot as plt\n",
    "import seaborn as sns\n",
    "import pickle\n",
    "sns.set_style(\"darkgrid\")\n",
    "# magic word for producing visualizations in notebook\n",
    "%matplotlib inline"
   ]
  },
  {
   "cell_type": "code",
   "execution_count": 4,
   "metadata": {},
   "outputs": [],
   "source": [
    "from sklearn.pipeline import Pipeline\n",
    "from sklearn.preprocessing import StandardScaler\n",
    "from sklearn.decomposition import PCA\n",
    "from sklearn.cluster import KMeans"
   ]
  },
  {
   "cell_type": "code",
   "execution_count": 23,
   "metadata": {},
   "outputs": [],
   "source": [
    "def build_model(pca_n=60, n_clusters=8):\n",
    "    '''Creates a pipeline for doing KMeans clustering\n",
    "    \n",
    "    Args:\n",
    "        pca_n (int): number of pca components\n",
    "        n_clusters (int): number of clusters\n",
    "    \n",
    "    Returns:\n",
    "        pipeline (sklearn.pipeline.Pipeline)\n",
    "    '''\n",
    "    pipeline = Pipeline([\n",
    "            ('scale', StandardScaler()),\n",
    "            ('pca', PCA(pca_n)),\n",
    "            ('kmeans', KMeans(n_clusters=n_clusters, random_state=0))\n",
    "    ])\n",
    "    \n",
    "    return pipeline"
   ]
  },
  {
   "cell_type": "code",
   "execution_count": 37,
   "metadata": {},
   "outputs": [],
   "source": [
    "def print_interesting_features(features, components, i):\n",
    "    '''Map weights for the principal component to corresponding feature names\n",
    "    and then print the linked values, sorted by weight'''\n",
    "    \n",
    "    feature_weights = pd.DataFrame(index=azdias_clean.columns, data=model.named_steps['pca'].components_[i]).sort_values(by=0, ascending=False)\n",
    "    feature_weights1 = pd.DataFrame(index=azdias_clean.columns, data=model.named_steps['pca'].components_[i]).sort_values(by=0)\n",
    "    print('Highest:')\n",
    "    for j in range(3):\n",
    "        print('\\t{:20} {:.3f}'.format(feature_weights.index[j], feature_weights[0][j]))\n",
    "    print('Lowest:')\n",
    "    for k in range(3):\n",
    "        print('\\t{:20} {:.3f}'.format(feature_weights1.index[k], feature_weights1[0][k]))"
   ]
  },
  {
   "cell_type": "code",
   "execution_count": 21,
   "metadata": {},
   "outputs": [],
   "source": [
    "def plot_clusters(array1, array2):\n",
    "    '''Plot clusters of two grouops\n",
    "    Args:\n",
    "        array1: predicion for azdias df\n",
    "        array2: prediction for customers df\n",
    "    Returns:\n",
    "        bar plot\n",
    "    '''\n",
    "    unique1, counts1 = np.unique(array1, return_counts=True)\n",
    "    df1 = pd.DataFrame(data=counts1, index=unique1)\n",
    "    df1['proportion1'] = df1[0]/df1.sum()[0]\n",
    "    \n",
    "    unique2, counts2 = np.unique(array2, return_counts=True)\n",
    "    df2 = pd.DataFrame(data=counts2, index=unique2)\n",
    "    df2['proportion2'] = df2[0]/df2.sum()[0]\n",
    "    \n",
    "    df = pd.concat([df1['proportion1'], df2['proportion2']], axis=1)\n",
    "    \n",
    "    x = np.arange(1, n_clusters+1)  # the label locations\n",
    "    width = 0.35  # the width of the bars\n",
    "\n",
    "    fig, ax = plt.subplots(figsize=(8,5))\n",
    "    rects1 = ax.bar(x - width/2, df.proportion1, width, label='General')\n",
    "    rects2 = ax.bar(x + width/2, df.proportion2, width, label='Customer')\n",
    "\n",
    "    # Add some text for labels, title and custom x-axis tick labels, etc.\n",
    "    ax.set_ylabel('Proportion')\n",
    "    ax.set_xlabel('Clusters')\n",
    "    ax.set_xticks(x)\n",
    "    ax.legend();"
   ]
  },
  {
   "cell_type": "markdown",
   "metadata": {},
   "source": [
    "### Read data, build model, and plot clusters"
   ]
  },
  {
   "cell_type": "markdown",
   "metadata": {},
   "source": [
    "Fill nulls:\n",
    "\n",
    "1. numerical - mean\n",
    "2. categorical - median"
   ]
  },
  {
   "cell_type": "markdown",
   "metadata": {},
   "source": [
    "Cleaning data...\n",
    "\n",
    "The critera for cleaning is:\n",
    "1. remove columns have more than 20% nulls\n",
    "2. remove row have more than 10% nulls\n",
    "3. remove kba columns -- bias the dataset with minimum information\n",
    "4. change the OST_WEST_KZ to dummy data\n",
    "5. extract decade data from PRAEGENDE_JUGENDJAHRE\n",
    "6. remove columns with too much dummy values (CAMEO_DEU_2015)\n",
    "7. reengineer the mix datatype rows"
   ]
  },
  {
   "cell_type": "code",
   "execution_count": 7,
   "metadata": {},
   "outputs": [],
   "source": [
    "azdias_clean = pd.read_csv('azdias_clean.csv')\n",
    "customers_clean = pd.read_csv('customers_clean.csv')\n",
    "azdias_clean.drop('Unnamed: 0', axis=1, inplace=True)\n",
    "customers_clean.drop('Unnamed: 0', axis=1, inplace=True)"
   ]
  },
  {
   "cell_type": "code",
   "execution_count": 26,
   "metadata": {},
   "outputs": [
    {
     "name": "stdout",
     "output_type": "stream",
     "text": [
      "Fitting model...\n",
      "Saving model...\n"
     ]
    }
   ],
   "source": [
    "# Build model\n",
    "pca_n = 60\n",
    "n_clusters = 8\n",
    "\n",
    "model = build_model(pca_n, n_clusters)\n",
    "\n",
    "print('Fitting model...')\n",
    "model.fit(azdias_clean)\n",
    "\n",
    "print('Saving model...')\n",
    "f = open('model' + str(n_clusters) + '.pkl', 'wb')\n",
    "pickle.dump(model, f)"
   ]
  },
  {
   "cell_type": "code",
   "execution_count": 27,
   "metadata": {},
   "outputs": [],
   "source": [
    "# predict the model\n",
    "az_prediction = model.predict(azdias_clean)\n",
    "cus_prediction = model.predict(customers_clean)"
   ]
  },
  {
   "cell_type": "code",
   "execution_count": 28,
   "metadata": {
    "scrolled": true
   },
   "outputs": [
    {
     "data": {
      "image/png": "[encoded data removed]",
      "text/plain": [
       "<Figure size 576x360 with 1 Axes>"
      ]
     },
     "metadata": {
      "needs_background": "light"
     },
     "output_type": "display_data"
    }
   ],
   "source": [
    "# plot the clusters\n",
    "plot_clusters(az_prediction, cus_prediction)"
   ]
  },
  {
   "cell_type": "markdown",
   "metadata": {},
   "source": [
    "We can see that in cluster **3 and 7**, the customers are **overrepresented**, and in cluster **4 and 5**, customers are **underrepresented**."
   ]
  },
  {
   "cell_type": "markdown",
   "metadata": {},
   "source": [
    "### Check princeple components"
   ]
  },
  {
   "cell_type": "markdown",
   "metadata": {},
   "source": [
    "### Check the cluster center"
   ]
  },
  {
   "cell_type": "code",
   "execution_count": 35,
   "metadata": {},
   "outputs": [
    {
     "data": {
      "text/plain": [
       "(1, 2)"
      ]
     },
     "execution_count": 35,
     "metadata": {},
     "output_type": "execute_result"
    }
   ],
   "source": [
    "(model.named_steps['kmeans'].cluster_centers_[4,:]).argmax(),(model.named_steps['kmeans'].cluster_centers_[4,:]).argmin()"
   ]
  },
  {
   "cell_type": "code",
   "execution_count": 36,
   "metadata": {},
   "outputs": [
    {
     "data": {
      "text/plain": [
       "(1, 3)"
      ]
     },
     "execution_count": 36,
     "metadata": {},
     "output_type": "execute_result"
    }
   ],
   "source": [
    "(model.named_steps['kmeans'].cluster_centers_[3,:]).argmax(),(model.named_steps['kmeans'].cluster_centers_[3,:]).argmin()"
   ]
  },
  {
   "cell_type": "code",
   "execution_count": 42,
   "metadata": {},
   "outputs": [
    {
     "name": "stdout",
     "output_type": "stream",
     "text": [
      "PCA 1\n",
      "Highest:\n",
      "\tFINANZ_SPARER        0.244\n",
      "\tSEMIO_REL            0.212\n",
      "\tSEMIO_PFLICHT        0.211\n",
      "Lowest:\n",
      "\tALTERSKATEGORIE_GROB -0.222\n",
      "\tFINANZ_VORSORGER     -0.221\n",
      "\tFINANZ_MINIMALIST    -0.191\n",
      "\n",
      "PCA 2\n",
      "Highest:\n",
      "\tSEMIO_KAEM           0.199\n",
      "\tSEMIO_ERL            0.190\n",
      "\tANREDE_KZ            0.172\n",
      "Lowest:\n",
      "\tSEMIO_KULT           -0.203\n",
      "\tSEMIO_FAM            -0.185\n",
      "\tSEMIO_REL            -0.179\n",
      "\n",
      "PCA 3\n",
      "Highest:\n",
      "\tSEMIO_VERT           0.310\n",
      "\tSEMIO_SOZ            0.241\n",
      "\tSEMIO_FAM            0.212\n",
      "Lowest:\n",
      "\tANREDE_KZ            -0.330\n",
      "\tSEMIO_KAEM           -0.286\n",
      "\tSEMIO_DOM            -0.268\n",
      "\n"
     ]
    }
   ],
   "source": [
    "for i in range(1, 4):\n",
    "    print('PCA', i)\n",
    "    print_interesting_features(azdias_clean.columns.values, model.named_steps['pca'].components_, i)\n",
    "    print()"
   ]
  },
  {
   "cell_type": "markdown",
   "metadata": {},
   "source": [
    "We can see that in the underrepresented clusters, the most positive compnents are PC1, and the most negative components are pc2 and pc3. \n",
    "We noticed that:\n",
    "- PC1 is associated with finantial habbit and peronality (traditional minded etc.)\n",
    "- PC2 and PC3 is associated with personality traits, community/family size.\n",
    "\n",
    "This may indicate that finantial habbit (saving or not etc.) and personality can used to differentiate the customers."
   ]
  },
  {
   "cell_type": "code",
   "execution_count": 39,
   "metadata": {},
   "outputs": [
    {
     "data": {
      "text/plain": [
       "(6, 7)"
      ]
     },
     "execution_count": 39,
     "metadata": {},
     "output_type": "execute_result"
    }
   ],
   "source": [
    "(model.named_steps['kmeans'].cluster_centers_[2,:]).argmax(),(model.named_steps['kmeans'].cluster_centers_[2,:]).argmin()"
   ]
  },
  {
   "cell_type": "code",
   "execution_count": 40,
   "metadata": {},
   "outputs": [
    {
     "data": {
      "text/plain": [
       "(0, 6)"
      ]
     },
     "execution_count": 40,
     "metadata": {},
     "output_type": "execute_result"
    }
   ],
   "source": [
    "(model.named_steps['kmeans'].cluster_centers_[6,:]).argmax(),(model.named_steps['kmeans'].cluster_centers_[6,:]).argmin()"
   ]
  },
  {
   "cell_type": "code",
   "execution_count": 43,
   "metadata": {},
   "outputs": [
    {
     "name": "stdout",
     "output_type": "stream",
     "text": [
      "PCA 0\n",
      "Highest:\n",
      "\tD19_GESAMT_ANZ_24    0.198\n",
      "\tD19_GESAMT_ANZ_12    0.190\n",
      "\tD19_VERSAND_ANZ_24   0.182\n",
      "Lowest:\n",
      "\tD19_GESAMT_DATUM     -0.194\n",
      "\tD19_VERSAND_DATUM    -0.186\n",
      "\tD19_GESAMT_ONLINE_DATUM -0.184\n",
      "\n",
      "PCA 6\n",
      "Highest:\n",
      "\tD19_BANKEN_ANZ_12    0.246\n",
      "\tD19_BANKEN_ANZ_24    0.236\n",
      "\tD19_TELKO_ANZ_12     0.216\n",
      "Lowest:\n",
      "\tHEALTH_TYP           -0.287\n",
      "\tVERS_TYP             -0.261\n",
      "\tD19_BANKEN_DATUM     -0.211\n",
      "\n",
      "PCA 7\n",
      "Highest:\n",
      "\tHEALTH_TYP           0.373\n",
      "\tVERS_TYP             0.357\n",
      "\tNATIONALITAET_KZ     0.253\n",
      "Lowest:\n",
      "\tD19_BANKEN_DATUM     -0.190\n",
      "\tD19_BANKEN_ONLINE_DATUM -0.187\n",
      "\tD19_VERSAND_ANZ_12   -0.172\n",
      "\n"
     ]
    }
   ],
   "source": [
    "for i in [0, 6, 7]:\n",
    "    print('PCA', i)\n",
    "    print_interesting_features(azdias_clean.columns.values, model.named_steps['pca'].components_, i)\n",
    "    print()"
   ]
  },
  {
   "cell_type": "markdown",
   "metadata": {},
   "source": [
    "We noticed that:\n",
    "- PC0 is associated with transaction activities and online activities.\n",
    "- PC6 is associated with online activities and health condition.\n",
    "- PC7 is associated with health, insuarance, online transactions.\n",
    "\n",
    "This indicated that transaction activities, insuarance and health may used to differentiate customers."
   ]
  },
  {
   "cell_type": "markdown",
   "metadata": {},
   "source": [
    "### Check original dataframe"
   ]
  },
  {
   "cell_type": "code",
   "execution_count": 44,
   "metadata": {},
   "outputs": [],
   "source": [
    "azdias_clean['preds'] = az_prediction"
   ]
  },
  {
   "cell_type": "code",
   "execution_count": 45,
   "metadata": {},
   "outputs": [],
   "source": [
    "customers_clean['preds'] = cus_prediction"
   ]
  },
  {
   "cell_type": "code",
   "execution_count": 78,
   "metadata": {},
   "outputs": [],
   "source": [
    "# select columns to analyze\n",
    "cols = ['TITEL_KZ', 'ANZ_TITEL', 'ANZ_HH_TITEL', 'D19_VERSAND_ANZ_12', 'D19_VERSAND_ANZ_24', 'D19_GESAMT_ANZ_12', \n",
    " 'D19_GESAMT_ANZ_24', 'GREEN_AVANTGARDE', 'D19_BANKEN_ANZ_12', 'AGER_TYP', 'D19_TELKO_ANZ_12', 'D19_VERSI_ANZ_12',\n",
    "'FINANZTYP', 'D19_VERSI_ANZ_24', 'GEBURTSJAHR', 'LP_FAMILIE_FEIN', 'D19_TELKO_ANZ_24', 'ALTER_HH','LP_FAMILIE_GROB',\n",
    "'MOBI_REGIO', 'preds']\n",
    "azdias_ana = azdias_clean.loc[:, cols]\n",
    "customers_ana = customers_clean.loc[:, cols]"
   ]
  },
  {
   "cell_type": "code",
   "execution_count": 103,
   "metadata": {
    "scrolled": true
   },
   "outputs": [
    {
     "data": {
      "text/plain": [
       "TITEL_KZ                 0.000928\n",
       "ANZ_TITEL                0.001539\n",
       "ANZ_HH_TITEL             0.038714\n",
       "D19_VERSAND_ANZ_12       0.331626\n",
       "D19_VERSAND_ANZ_24       0.616545\n",
       "D19_GESAMT_ANZ_12        0.432306\n",
       "D19_GESAMT_ANZ_24        0.824457\n",
       "GREEN_AVANTGARDE         0.127459\n",
       "D19_BANKEN_ANZ_12        0.022356\n",
       "AGER_TYP                -0.957492\n",
       "D19_TELKO_ANZ_12         0.020596\n",
       "D19_VERSI_ANZ_12         0.061497\n",
       "FINANZTYP                2.512557\n",
       "D19_VERSI_ANZ_24         0.128372\n",
       "GEBURTSJAHR           1218.049605\n",
       "LP_FAMILIE_FEIN          2.977001\n",
       "D19_TELKO_ANZ_24         0.063288\n",
       "ALTER_HH                11.783520\n",
       "LP_FAMILIE_GROB          1.939471\n",
       "MOBI_REGIO               2.482531\n",
       "dtype: float64"
      ]
     },
     "execution_count": 103,
     "metadata": {},
     "output_type": "execute_result"
    }
   ],
   "source": [
    "azdias_ana.groupby(['preds']).mean().T.loc[:,[3,4]].mean(axis=1)"
   ]
  },
  {
   "cell_type": "code",
   "execution_count": 104,
   "metadata": {},
   "outputs": [
    {
     "data": {
      "text/plain": [
       "TITEL_KZ                0.011444\n",
       "ANZ_TITEL               0.012898\n",
       "ANZ_HH_TITEL            0.016326\n",
       "D19_VERSAND_ANZ_12      1.053892\n",
       "D19_VERSAND_ANZ_24      1.530148\n",
       "D19_GESAMT_ANZ_12       1.184961\n",
       "D19_GESAMT_ANZ_24       1.703811\n",
       "GREEN_AVANTGARDE        0.305262\n",
       "D19_BANKEN_ANZ_12       0.035051\n",
       "AGER_TYP               -0.155263\n",
       "D19_TELKO_ANZ_12        0.033168\n",
       "D19_VERSI_ANZ_12        0.114289\n",
       "FINANZTYP               4.113657\n",
       "D19_VERSI_ANZ_24        0.194824\n",
       "GEBURTSJAHR           773.235242\n",
       "LP_FAMILIE_FEIN         4.415750\n",
       "D19_TELKO_ANZ_24        0.077507\n",
       "ALTER_HH               12.609505\n",
       "LP_FAMILIE_GROB         2.279254\n",
       "MOBI_REGIO              4.040804\n",
       "dtype: float64"
      ]
     },
     "execution_count": 104,
     "metadata": {},
     "output_type": "execute_result"
    }
   ],
   "source": [
    "customers_ana.groupby(['preds']).mean().T.loc[:,[2,6]].mean(axis=1)"
   ]
  },
  {
   "cell_type": "markdown",
   "metadata": {},
   "source": [
    "We noticed that people with following characteristics is more likely to be customers for mail oder\n",
    "1. Moving possibility is low \n",
    "2. Hold more and higher professional titles \n",
    "3. Higher transaction activities and total online/transaction activities\n",
    "4. Older male\n",
    "5. More likely to invest"
   ]
  },
  {
   "cell_type": "code",
   "execution_count": null,
   "metadata": {},
   "outputs": [],
   "source": []
  }
 ],
 "metadata": {
  "kernelspec": {
   "display_name": "Python 3",
   "language": "python",
   "name": "python3"
  },
  "language_info": {
   "codemirror_mode": {
    "name": "ipython",
    "version": 3
   },
   "file_extension": ".py",
   "mimetype": "text/x-python",
   "name": "python",
   "nbconvert_exporter": "python",
   "pygments_lexer": "ipython3",
   "version": "3.7.6"
  }
 },
 "nbformat": 4,
 "nbformat_minor": 4
}
